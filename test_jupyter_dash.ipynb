{
 "cells": [
  {
   "cell_type": "markdown",
   "source": [
    "# Deploy Dash App in Jupyter Notebook and JupyterLab \n",
    "\n",
    "--- \n"
   ],
   "metadata": {}
  },
  {
   "cell_type": "markdown",
   "source": [
    "## Example 1 - From article **[Introducing JupyterDash](https://medium.com/plotly/introducing-jupyterdash-811f1f57c02e)**"
   ],
   "metadata": {}
  },
  {
   "cell_type": "code",
   "execution_count": 1,
   "source": [
    "import plotly.express as px\n",
    "from jupyter_dash import JupyterDash\n",
    "\n",
    "# the following is outdated, \n",
    "# ref:  https://stackoverflow.com/a/69117919/3776170\n",
    "# import dash_core_components as dcc  \n",
    "# import dash_html_components as html\n",
    "\n",
    "from dash import dcc\n",
    "from dash import html \n",
    "from dash.dependencies import Input, Output# Load Data\n"
   ],
   "outputs": [],
   "metadata": {}
  },
  {
   "cell_type": "code",
   "execution_count": 2,
   "source": [
    "df_tips = px.data.tips()# Build App\n",
    "\n",
    "app1 = JupyterDash(__name__)\n",
    "\n",
    "app1.layout = html.Div([\n",
    "    html.H1(\"JupyterDash Demo\"),\n",
    "    dcc.Graph(id='graph'),\n",
    "    html.Label([\n",
    "        \"colorscale\",\n",
    "        dcc.Dropdown(\n",
    "            id        = 'colorscale-dropdown',\n",
    "            clearable = False,\n",
    "            value     = 'plasma',\n",
    "            options   = [\n",
    "                {'label': c, 'value': c} \n",
    "                for c in px.colors.named_colorscales()\n",
    "            ]\n",
    "        )\n",
    "    ]),\n",
    "])\n"
   ],
   "outputs": [],
   "metadata": {}
  },
  {
   "cell_type": "code",
   "execution_count": 3,
   "source": [
    "# Define callback to update graph\n",
    "@app1.callback(\n",
    "    Output('graph', 'figure'),\n",
    "    [Input(\"colorscale-dropdown\", \"value\")]\n",
    ")\n",
    "\n",
    "def update_figure(colorscale): \n",
    "    return px.scatter(\n",
    "        data_frame             = df_tips,\n",
    "        x                      = \"total_bill\",\n",
    "        y                      = \"tip\",\n",
    "        color                  = \"size\",\n",
    "        color_continuous_scale = colorscale,\n",
    "        render_mode            = \"webgl\",\n",
    "        title                  = \"Tips\"\n",
    "    )\n"
   ],
   "outputs": [],
   "metadata": {}
  },
  {
   "cell_type": "code",
   "execution_count": 4,
   "source": [
    "app_mode = 'inline'  # Run app and display result inline in the notebook\n",
    "# app_mode = 'external'  # Run app and display result externally in web browser \n",
    "\n",
    "app1.run_server(mode=app_mode)\n"
   ],
   "outputs": [
    {
     "output_type": "display_data",
     "data": {
      "text/html": [
       "\n",
       "        <iframe\n",
       "            width=\"100%\"\n",
       "            height=\"650\"\n",
       "            src=\"http://127.0.0.1:8050/\"\n",
       "            frameborder=\"0\"\n",
       "            allowfullscreen\n",
       "        ></iframe>\n",
       "        "
      ],
      "text/plain": [
       "<IPython.lib.display.IFrame at 0x7fe800575070>"
      ]
     },
     "metadata": {}
    }
   ],
   "metadata": {}
  },
  {
   "cell_type": "markdown",
   "source": [
    "## Example 2 - From the **[official dash example](https://dash.plotly.com/layout)**\n"
   ],
   "metadata": {}
  },
  {
   "cell_type": "code",
   "execution_count": 6,
   "source": [
    "import dash\n",
    "# import dash_core_components as dcc\n",
    "# import dash_html_components as html\n",
    "from dash import dcc\n",
    "from dash import html \n",
    "\n",
    "import plotly.express as px\n",
    "import plotly.graph_objects as go\n",
    "import pandas as pd\n"
   ],
   "outputs": [],
   "metadata": {}
  },
  {
   "cell_type": "code",
   "execution_count": 7,
   "source": [
    "external_stylesheets = ['https://codepen.io/chriddyp/pen/bWLwgP.css']"
   ],
   "outputs": [],
   "metadata": {}
  },
  {
   "cell_type": "code",
   "execution_count": 8,
   "source": [
    "# app  = dash.Dash(__name__, external_stylesheets=external_stylesheets)  # dash app run by python\n",
    "app2 = JupyterDash(__name__, external_stylesheets=external_stylesheets)  # dash app run by jupyter notebook \n",
    "\n",
    "# fig example 1 - bar chart\n",
    "# assume you have a \"long-form\" data frame\n",
    "# see https://plotly.com/python/px-arguments/ for more options\n",
    "df_fruit = pd.DataFrame({\n",
    "    \"Fruit\" : [\"Apples\", \"Oranges\", \"Bananas\", \"Apples\", \"Oranges\", \"Bananas\"],\n",
    "    \"Amount\": [4, 1, 2, 2, 4, 5],\n",
    "    \"City\"  : [\"SF\", \"SF\", \"SF\", \"Montreal\", \"Montreal\", \"Montreal\"]\n",
    "})\n",
    "\n",
    "fig_bar_fruit = px.bar(\n",
    "    data_frame = df_fruit,\n",
    "    x          = \"Fruit\",\n",
    "    y          = \"Amount\",\n",
    "    color      = \"City\",\n",
    "    barmode    = \"group\", \n",
    ")\n",
    "\n",
    "# fig example 2 - 3d surface plot \n",
    "z_data = pd.read_csv('https://raw.githubusercontent.com/plotly/datasets/master/api_docs/mt_bruno_elevation.csv')\n",
    "\n",
    "fig_3dSurf = go.Figure(data=[go.Surface(z=z_data.values)])\n",
    "\n",
    "fig_3dSurf.update_layout(\n",
    "    title    = 'Mt Bruno Elevation',\n",
    "    autosize = False,\n",
    "    width    = 500,\n",
    "    height   = 500,\n",
    "    margin   = dict(l=65, r=50, b=65, t=90)\n",
    ")\n",
    "\n",
    "app2.layout = html.Div(children=[\n",
    "    html.H1(children='Hello Dash'),\n",
    "\n",
    "    html.Div(children='''\n",
    "        Dash: A web application framework for Python.\n",
    "    '''),\n",
    "\n",
    "    dcc.Graph(\n",
    "        id     = 'example-graph',\n",
    "        figure = fig_bar_fruit,\n",
    "        # figure = fig_3dSurf,\n",
    "    )\n",
    "])"
   ],
   "outputs": [],
   "metadata": {}
  },
  {
   "cell_type": "code",
   "execution_count": 9,
   "source": [
    "app_mode = 'inline'  # Run app and display result inline in the notebook\n",
    "# app_mode = 'external'  # Run app and display result externally in web browser \n",
    "\n",
    "app2.run_server(mode= app_mode)\n"
   ],
   "outputs": [
    {
     "output_type": "stream",
     "name": "stderr",
     "text": [
      "/Users/minioat/opt/anaconda3/lib/python3.8/site-packages/jupyter_dash/jupyter_app.py:139: UserWarning:\n",
      "\n",
      "The 'environ['werkzeug.server.shutdown']' function is deprecated and will be removed in Werkzeug 2.1.\n",
      "\n"
     ]
    },
    {
     "output_type": "display_data",
     "data": {
      "text/html": [
       "\n",
       "        <iframe\n",
       "            width=\"100%\"\n",
       "            height=\"650\"\n",
       "            src=\"http://127.0.0.1:8050/\"\n",
       "            frameborder=\"0\"\n",
       "            allowfullscreen\n",
       "        ></iframe>\n",
       "        "
      ],
      "text/plain": [
       "<IPython.lib.display.IFrame at 0x7fe800a5d0a0>"
      ]
     },
     "metadata": {}
    }
   ],
   "metadata": {}
  },
  {
   "cell_type": "code",
   "execution_count": null,
   "source": [],
   "outputs": [],
   "metadata": {}
  }
 ],
 "metadata": {
  "orig_nbformat": 4,
  "language_info": {
   "name": "python",
   "version": "3.8.12",
   "mimetype": "text/x-python",
   "codemirror_mode": {
    "name": "ipython",
    "version": 3
   },
   "pygments_lexer": "ipython3",
   "nbconvert_exporter": "python",
   "file_extension": ".py"
  },
  "kernelspec": {
   "name": "python3",
   "display_name": "Python 3.8.12 64-bit ('base': conda)"
  },
  "interpreter": {
   "hash": "3b58eb65e2b157964bfd82fefa8a21a22c2959bf748bcf6cc3e6d6c141e9bed0"
  }
 },
 "nbformat": 4,
 "nbformat_minor": 2
}